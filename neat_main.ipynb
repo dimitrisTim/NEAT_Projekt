{
 "cells": [
  {
   "cell_type": "code",
   "execution_count": 1,
   "metadata": {},
   "outputs": [
    {
     "name": "stdout",
     "output_type": "stream",
     "text": [
      "Node: 1\n",
      "Type: NodeType.Input_Sensor\n",
      "\n"
     ]
    }
   ],
   "source": [
    "from node import Node, NodeType\n",
    "from connection import Connection\n",
    "from genome import Genome\n",
    "\n",
    "print(Node(1, NodeType.Input_Sensor))"
   ]
  },
  {
   "cell_type": "code",
   "execution_count": 2,
   "metadata": {},
   "outputs": [
    {
     "name": "stdout",
     "output_type": "stream",
     "text": [
      "Node: 2\n",
      "Type: NodeType.Output\n",
      "\n"
     ]
    }
   ],
   "source": [
    "print(Node(2, NodeType.Output))"
   ]
  },
  {
   "attachments": {},
   "cell_type": "markdown",
   "metadata": {},
   "source": [
    "## Connections"
   ]
  },
  {
   "cell_type": "code",
   "execution_count": 3,
   "metadata": {},
   "outputs": [
    {
     "name": "stdout",
     "output_type": "stream",
     "text": [
      "Innovation: 1\n",
      "Input: 1\n",
      "Output: 2\n",
      "Weight: -0.6778758082769314\n",
      "Enabled: True\n",
      "\n"
     ]
    }
   ],
   "source": [
    "print(Connection(1,2))"
   ]
  },
  {
   "cell_type": "code",
   "execution_count": 4,
   "metadata": {},
   "outputs": [
    {
     "name": "stdout",
     "output_type": "stream",
     "text": [
      "Node: 1\n",
      "Type: NodeType.Input_Sensor\n",
      "\n"
     ]
    }
   ],
   "source": [
    "from node import Node, NodeType\n",
    "from connection import Connection\n",
    "from genome import Genome\n",
    "\n",
    "print(Node(1, NodeType.Input_Sensor))"
   ]
  },
  {
   "cell_type": "code",
   "execution_count": 5,
   "metadata": {},
   "outputs": [
    {
     "name": "stdout",
     "output_type": "stream",
     "text": [
      "Node: 2\n",
      "Type: NodeType.Output\n",
      "\n"
     ]
    }
   ],
   "source": [
    "print(Node(2, NodeType.Output))"
   ]
  },
  {
   "attachments": {},
   "cell_type": "markdown",
   "metadata": {},
   "source": [
    "## Connections"
   ]
  },
  {
   "cell_type": "code",
   "execution_count": 6,
   "metadata": {},
   "outputs": [
    {
     "name": "stdout",
     "output_type": "stream",
     "text": [
      "Innovation: 2\n",
      "Input: 1\n",
      "Output: 2\n",
      "Weight: -0.24729310471039367\n",
      "Enabled: True\n",
      "\n"
     ]
    }
   ],
   "source": [
    "print(Connection(1,2))"
   ]
  },
  {
   "cell_type": "code",
   "execution_count": 7,
   "metadata": {},
   "outputs": [
    {
     "name": "stdout",
     "output_type": "stream",
     "text": [
      "Innovation: 3\n",
      "Input: 2\n",
      "Output: 3\n",
      "Weight: -0.5276345970063272\n",
      "Enabled: True\n",
      "\n"
     ]
    }
   ],
   "source": [
    "print(Connection(2, 3))"
   ]
  },
  {
   "cell_type": "code",
   "execution_count": 8,
   "metadata": {},
   "outputs": [
    {
     "name": "stdout",
     "output_type": "stream",
     "text": [
      "===== Nodes: =====\n",
      "Node: -1\n",
      "Type: NodeType.Input_Sensor\n",
      "\n",
      "Node: -2\n",
      "Type: NodeType.Input_Sensor\n",
      "\n",
      "Node: -3\n",
      "Type: NodeType.Bias\n",
      "\n",
      "Node: 0\n",
      "Type: NodeType.Output\n",
      "\n",
      "===== Connections: =====\n",
      "Innovation: 4\n",
      "Input: -1\n",
      "Output: 0\n",
      "Weight: -0.5515615121751283\n",
      "Enabled: True\n",
      "\n",
      "Innovation: 5\n",
      "Input: -2\n",
      "Output: 0\n",
      "Weight: -0.3441696345934\n",
      "Enabled: True\n",
      "\n",
      "Innovation: 6\n",
      "Input: -3\n",
      "Output: 0\n",
      "Weight: -0.7129740549921115\n",
      "Enabled: True\n",
      "\n",
      "\n"
     ]
    },
    {
     "data": {
      "image/png": "[encoded data removed]",
      "text/plain": [
       "<Figure size 640x480 with 1 Axes>"
      ]
     },
     "metadata": {},
     "output_type": "display_data"
    }
   ],
   "source": [
    "genome = Genome(1, n_inputs=2, n_outputs=1)\n",
    "print(genome)\n",
    "genome.visualize(show_weights=True)"
   ]
  }
 ],
 "metadata": {
  "kernelspec": {
   "display_name": "neuroevo_lab",
   "language": "python",
   "name": "python3"
  },
  "language_info": {
   "codemirror_mode": {
    "name": "ipython",
    "version": 3
   },
   "file_extension": ".py",
   "mimetype": "text/x-python",
   "name": "python",
   "nbconvert_exporter": "python",
   "pygments_lexer": "ipython3",
   "version": "3.10.8"
  },
  "orig_nbformat": 4,
  "vscode": {
   "interpreter": {
    "hash": "cd5c550b9d2d8703f96ab47f85fc700f6897b496748626632074781b64357509"
   }
  }
 },
 "nbformat": 4,
 "nbformat_minor": 2
}
