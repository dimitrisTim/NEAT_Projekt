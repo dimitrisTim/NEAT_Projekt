{
 "cells": [
  {
   "cell_type": "code",
   "execution_count": 1,
   "metadata": {},
   "outputs": [
    {
     "name": "stdout",
     "output_type": "stream",
     "text": [
      "Node: 1\n",
      "Type: NodeType.Input_Sensor\n",
      "\n"
     ]
    }
   ],
   "source": [
    "from node import Node, NodeType\n",
    "from connection import Connection\n",
    "from genome import Genome\n",
    "from utils.FeedForwardNet import FFN\n",
    "\n",
    "print(Node(1, NodeType.Input_Sensor))"
   ]
  },
  {
   "cell_type": "code",
   "execution_count": 2,
   "metadata": {},
   "outputs": [
    {
     "name": "stdout",
     "output_type": "stream",
     "text": [
      "Node: 2\n",
      "Type: NodeType.Output\n",
      "\n"
     ]
    }
   ],
   "source": [
    "print(Node(2, NodeType.Output))"
   ]
  },
  {
   "attachments": {},
   "cell_type": "markdown",
   "metadata": {},
   "source": [
    "## Connections"
   ]
  },
  {
   "cell_type": "code",
   "execution_count": 3,
   "metadata": {},
   "outputs": [
    {
     "name": "stdout",
     "output_type": "stream",
     "text": [
      "Innovation: 1\n",
      "Input: 1\n",
      "Output: 2\n",
      "Weight: -0.8122173501415901\n",
      "Enabled: True\n",
      "\n"
     ]
    }
   ],
   "source": [
    "print(Connection(1,2))"
   ]
  },
  {
   "cell_type": "code",
   "execution_count": 4,
   "metadata": {},
   "outputs": [
    {
     "name": "stdout",
     "output_type": "stream",
     "text": [
      "Node: 1\n",
      "Type: NodeType.Input_Sensor\n",
      "\n"
     ]
    }
   ],
   "source": [
    "from node import Node, NodeType\n",
    "from connection import Connection\n",
    "from genome import Genome\n",
    "\n",
    "print(Node(1, NodeType.Input_Sensor))"
   ]
  },
  {
   "cell_type": "code",
   "execution_count": 5,
   "metadata": {},
   "outputs": [
    {
     "name": "stdout",
     "output_type": "stream",
     "text": [
      "Node: 2\n",
      "Type: NodeType.Output\n",
      "\n"
     ]
    }
   ],
   "source": [
    "print(Node(2, NodeType.Output))"
   ]
  },
  {
   "attachments": {},
   "cell_type": "markdown",
   "metadata": {},
   "source": [
    "## Connections"
   ]
  },
  {
   "cell_type": "code",
   "execution_count": 6,
   "metadata": {},
   "outputs": [
    {
     "name": "stdout",
     "output_type": "stream",
     "text": [
      "Innovation: 2\n",
      "Input: 1\n",
      "Output: 2\n",
      "Weight: 0.19827011230070313\n",
      "Enabled: True\n",
      "\n"
     ]
    }
   ],
   "source": [
    "print(Connection(1,2))"
   ]
  },
  {
   "cell_type": "code",
   "execution_count": 7,
   "metadata": {},
   "outputs": [
    {
     "name": "stdout",
     "output_type": "stream",
     "text": [
      "Innovation: 3\n",
      "Input: 2\n",
      "Output: 3\n",
      "Weight: 0.6093347542583014\n",
      "Enabled: True\n",
      "\n"
     ]
    }
   ],
   "source": [
    "print(Connection(2, 3))"
   ]
  },
  {
   "cell_type": "code",
   "execution_count": 8,
   "metadata": {},
   "outputs": [
    {
     "ename": "AttributeError",
     "evalue": "'Genome' object has no attribute 'testmode'",
     "output_type": "error",
     "traceback": [
      "\u001b[0;31m---------------------------------------------------------------------------\u001b[0m",
      "\u001b[0;31mAttributeError\u001b[0m                            Traceback (most recent call last)",
      "Cell \u001b[0;32mIn [8], line 1\u001b[0m\n\u001b[0;32m----> 1\u001b[0m genome \u001b[39m=\u001b[39m Genome(\u001b[39m1\u001b[39;49m, n_inputs\u001b[39m=\u001b[39;49m\u001b[39m2\u001b[39;49m, n_outputs\u001b[39m=\u001b[39;49m\u001b[39m1\u001b[39;49m)\n\u001b[1;32m      2\u001b[0m \u001b[39mprint\u001b[39m(genome)\n\u001b[1;32m      3\u001b[0m genome\u001b[39m.\u001b[39mvisualize(show_weights\u001b[39m=\u001b[39m\u001b[39mTrue\u001b[39;00m)\n",
      "File \u001b[0;32m~/Documents/Master_Vorlesungen_Notizen/WiSe 2022-23/Labor Neuroevolution/vorlesung/Aufgaben/NEAT/genome.py:11\u001b[0m, in \u001b[0;36mGenome.__init__\u001b[0;34m(self, id, n_inputs, n_outputs, testmode)\u001b[0m\n\u001b[1;32m      9\u001b[0m \u001b[39mself\u001b[39m\u001b[39m.\u001b[39mn_outputs \u001b[39m=\u001b[39m n_outputs\n\u001b[1;32m     10\u001b[0m \u001b[39mself\u001b[39m\u001b[39m.\u001b[39mnodes \u001b[39m=\u001b[39m \u001b[39mself\u001b[39m\u001b[39m.\u001b[39mcreate_nodes()\n\u001b[0;32m---> 11\u001b[0m \u001b[39mself\u001b[39m\u001b[39m.\u001b[39mconnections: \u001b[39mlist\u001b[39m[Connection] \u001b[39m=\u001b[39m \u001b[39mself\u001b[39;49m\u001b[39m.\u001b[39;49mcreate_connections()\n\u001b[1;32m     12\u001b[0m \u001b[39mself\u001b[39m\u001b[39m.\u001b[39mtestmode \u001b[39m=\u001b[39m testmode\n",
      "File \u001b[0;32m~/Documents/Master_Vorlesungen_Notizen/WiSe 2022-23/Labor Neuroevolution/vorlesung/Aufgaben/NEAT/genome.py:32\u001b[0m, in \u001b[0;36mGenome.create_connections\u001b[0;34m(self)\u001b[0m\n\u001b[1;32m     30\u001b[0m \u001b[39mfor\u001b[39;00m i \u001b[39min\u001b[39;00m input_nodes:\n\u001b[1;32m     31\u001b[0m     \u001b[39mfor\u001b[39;00m j \u001b[39min\u001b[39;00m output_nodes:\n\u001b[0;32m---> 32\u001b[0m         \u001b[39mif\u001b[39;00m \u001b[39mself\u001b[39;49m\u001b[39m.\u001b[39;49mtestmode:\n\u001b[1;32m     33\u001b[0m             connections\u001b[39m.\u001b[39mappend(Connection(i\u001b[39m.\u001b[39mid, j\u001b[39m.\u001b[39mid, \u001b[39m0.5\u001b[39m))\n\u001b[1;32m     34\u001b[0m         \u001b[39melse\u001b[39;00m:\n",
      "\u001b[0;31mAttributeError\u001b[0m: 'Genome' object has no attribute 'testmode'"
     ]
    }
   ],
   "source": [
    "genome = Genome(1, n_inputs=2, n_outputs=1)\n",
    "print(genome)\n",
    "genome.visualize(show_weights=True)"
   ]
  },
  {
   "cell_type": "code",
   "execution_count": null,
   "metadata": {},
   "outputs": [],
   "source": [
    "test = FFN(genome, [1,1])\n",
    "test.forward()"
   ]
  }
 ],
 "metadata": {
  "kernelspec": {
   "display_name": "neuroevo_lab",
   "language": "python",
   "name": "python3"
  },
  "language_info": {
   "codemirror_mode": {
    "name": "ipython",
    "version": 3
   },
   "file_extension": ".py",
   "mimetype": "text/x-python",
   "name": "python",
   "nbconvert_exporter": "python",
   "pygments_lexer": "ipython3",
   "version": "3.10.8"
  },
  "orig_nbformat": 4,
  "vscode": {
   "interpreter": {
    "hash": "cd5c550b9d2d8703f96ab47f85fc700f6897b496748626632074781b64357509"
   }
  }
 },
 "nbformat": 4,
 "nbformat_minor": 2
}
